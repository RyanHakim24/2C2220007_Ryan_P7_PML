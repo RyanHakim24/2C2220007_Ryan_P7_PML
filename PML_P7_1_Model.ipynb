{
 "cells": [
  {
   "cell_type": "markdown",
   "metadata": {},
   "source": [
    "# Tugas Pengantar Model Linear P7\n",
    "* Nama : Ryan Fadhilah Faizal Hakim\n",
    "* NRP  : 2C2220007"
   ]
  },
  {
   "cell_type": "code",
   "execution_count": 84,
   "metadata": {},
   "outputs": [],
   "source": [
    "import pandas as pd\n",
    "import numpy as np\n",
    "import statsmodels.api as sm"
   ]
  },
  {
   "cell_type": "markdown",
   "metadata": {},
   "source": [
    "### Data Preparation"
   ]
  },
  {
   "cell_type": "code",
   "execution_count": 85,
   "metadata": {},
   "outputs": [
    {
     "data": {
      "text/html": [
       "<div>\n",
       "<style scoped>\n",
       "    .dataframe tbody tr th:only-of-type {\n",
       "        vertical-align: middle;\n",
       "    }\n",
       "\n",
       "    .dataframe tbody tr th {\n",
       "        vertical-align: top;\n",
       "    }\n",
       "\n",
       "    .dataframe thead th {\n",
       "        text-align: right;\n",
       "    }\n",
       "</style>\n",
       "<table border=\"1\" class=\"dataframe\">\n",
       "  <thead>\n",
       "    <tr style=\"text-align: right;\">\n",
       "      <th></th>\n",
       "      <th>x1</th>\n",
       "      <th>y1</th>\n",
       "    </tr>\n",
       "  </thead>\n",
       "  <tbody>\n",
       "    <tr>\n",
       "      <th>0</th>\n",
       "      <td>175</td>\n",
       "      <td>135</td>\n",
       "    </tr>\n",
       "    <tr>\n",
       "      <th>1</th>\n",
       "      <td>175</td>\n",
       "      <td>145</td>\n",
       "    </tr>\n",
       "    <tr>\n",
       "      <th>2</th>\n",
       "      <td>235</td>\n",
       "      <td>205</td>\n",
       "    </tr>\n",
       "    <tr>\n",
       "      <th>3</th>\n",
       "      <td>215</td>\n",
       "      <td>175</td>\n",
       "    </tr>\n",
       "    <tr>\n",
       "      <th>4</th>\n",
       "      <td>195</td>\n",
       "      <td>140</td>\n",
       "    </tr>\n",
       "    <tr>\n",
       "      <th>5</th>\n",
       "      <td>195</td>\n",
       "      <td>190</td>\n",
       "    </tr>\n",
       "  </tbody>\n",
       "</table>\n",
       "</div>"
      ],
      "text/plain": [
       "    x1   y1\n",
       "0  175  135\n",
       "1  175  145\n",
       "2  235  205\n",
       "3  215  175\n",
       "4  195  140\n",
       "5  195  190"
      ]
     },
     "execution_count": 85,
     "metadata": {},
     "output_type": "execute_result"
    }
   ],
   "source": [
    "data2 = {\n",
    "    'x1' : [175, 175, 235, 215, 195, 195],\n",
    "    'y1' : [135, 145, 205, 175, 140, 190]\n",
    "}\n",
    "\n",
    "data3 = {\n",
    "    'x2' : [205, 175, 230, 190, 155, 185],\n",
    "    'y2' : [165, 195, 160, 155, 150, 170]\n",
    "}\n",
    "\n",
    "a = 2\n",
    "M = 1\n",
    "alpha = 0.05\n",
    "\n",
    "belajar2 = pd.DataFrame(data2)\n",
    "\n",
    "belajar2\n"
   ]
  },
  {
   "cell_type": "code",
   "execution_count": 86,
   "metadata": {},
   "outputs": [
    {
     "data": {
      "text/html": [
       "<div>\n",
       "<style scoped>\n",
       "    .dataframe tbody tr th:only-of-type {\n",
       "        vertical-align: middle;\n",
       "    }\n",
       "\n",
       "    .dataframe tbody tr th {\n",
       "        vertical-align: top;\n",
       "    }\n",
       "\n",
       "    .dataframe thead th {\n",
       "        text-align: right;\n",
       "    }\n",
       "</style>\n",
       "<table border=\"1\" class=\"dataframe\">\n",
       "  <thead>\n",
       "    <tr style=\"text-align: right;\">\n",
       "      <th></th>\n",
       "      <th>x2</th>\n",
       "      <th>y2</th>\n",
       "    </tr>\n",
       "  </thead>\n",
       "  <tbody>\n",
       "    <tr>\n",
       "      <th>0</th>\n",
       "      <td>205</td>\n",
       "      <td>165</td>\n",
       "    </tr>\n",
       "    <tr>\n",
       "      <th>1</th>\n",
       "      <td>175</td>\n",
       "      <td>195</td>\n",
       "    </tr>\n",
       "    <tr>\n",
       "      <th>2</th>\n",
       "      <td>230</td>\n",
       "      <td>160</td>\n",
       "    </tr>\n",
       "    <tr>\n",
       "      <th>3</th>\n",
       "      <td>190</td>\n",
       "      <td>155</td>\n",
       "    </tr>\n",
       "    <tr>\n",
       "      <th>4</th>\n",
       "      <td>155</td>\n",
       "      <td>150</td>\n",
       "    </tr>\n",
       "    <tr>\n",
       "      <th>5</th>\n",
       "      <td>185</td>\n",
       "      <td>170</td>\n",
       "    </tr>\n",
       "  </tbody>\n",
       "</table>\n",
       "</div>"
      ],
      "text/plain": [
       "    x2   y2\n",
       "0  205  165\n",
       "1  175  195\n",
       "2  230  160\n",
       "3  190  155\n",
       "4  155  150\n",
       "5  185  170"
      ]
     },
     "execution_count": 86,
     "metadata": {},
     "output_type": "execute_result"
    }
   ],
   "source": [
    "belajar3 = pd.DataFrame(data3)\n",
    "\n",
    "belajar3"
   ]
  },
  {
   "cell_type": "code",
   "execution_count": 87,
   "metadata": {},
   "outputs": [
    {
     "data": {
      "text/plain": [
       "['N',\n",
       " 'sum(x)',\n",
       " 'sum(x^2)',\n",
       " 'sum(y)',\n",
       " 'sum(y^2)',\n",
       " 'sum(xy)',\n",
       " 'mean(x)',\n",
       " 'mean(y)']"
      ]
     },
     "execution_count": 87,
     "metadata": {},
     "output_type": "execute_result"
    }
   ],
   "source": [
    "sts = ['N', 'sum(x)', 'sum(x^2)', 'sum(y)', 'sum(y^2)', 'sum(xy)', 'mean(x)', 'mean(y)']\n",
    "\n",
    "sts"
   ]
  },
  {
   "cell_type": "code",
   "execution_count": 88,
   "metadata": {},
   "outputs": [
    {
     "data": {
      "text/plain": [
       "[6, 1190, 238750, 990, 167600, 199150, 198.33333333333334, 165.0]"
      ]
     },
     "execution_count": 88,
     "metadata": {},
     "output_type": "execute_result"
    }
   ],
   "source": [
    "A1 = [len(belajar2), sum(belajar2['x1']), sum(belajar2['x1'] ** 2), sum(belajar2['y1']), sum(belajar2['y1'] ** 2), sum(belajar2['x1'] * belajar2['y1']), belajar2['x1'].mean(), belajar2['y1'].mean()]\n",
    "\n",
    "A1"
   ]
  },
  {
   "cell_type": "code",
   "execution_count": 89,
   "metadata": {},
   "outputs": [
    {
     "data": {
      "text/html": [
       "<div>\n",
       "<style scoped>\n",
       "    .dataframe tbody tr th:only-of-type {\n",
       "        vertical-align: middle;\n",
       "    }\n",
       "\n",
       "    .dataframe tbody tr th {\n",
       "        vertical-align: top;\n",
       "    }\n",
       "\n",
       "    .dataframe thead th {\n",
       "        text-align: right;\n",
       "    }\n",
       "</style>\n",
       "<table border=\"1\" class=\"dataframe\">\n",
       "  <thead>\n",
       "    <tr style=\"text-align: right;\">\n",
       "      <th></th>\n",
       "      <th>Statistik</th>\n",
       "    </tr>\n",
       "  </thead>\n",
       "  <tbody>\n",
       "    <tr>\n",
       "      <th>0</th>\n",
       "      <td>N</td>\n",
       "    </tr>\n",
       "    <tr>\n",
       "      <th>1</th>\n",
       "      <td>sum(x)</td>\n",
       "    </tr>\n",
       "    <tr>\n",
       "      <th>2</th>\n",
       "      <td>sum(x^2)</td>\n",
       "    </tr>\n",
       "    <tr>\n",
       "      <th>3</th>\n",
       "      <td>sum(y)</td>\n",
       "    </tr>\n",
       "    <tr>\n",
       "      <th>4</th>\n",
       "      <td>sum(y^2)</td>\n",
       "    </tr>\n",
       "    <tr>\n",
       "      <th>5</th>\n",
       "      <td>sum(xy)</td>\n",
       "    </tr>\n",
       "    <tr>\n",
       "      <th>6</th>\n",
       "      <td>mean(x)</td>\n",
       "    </tr>\n",
       "    <tr>\n",
       "      <th>7</th>\n",
       "      <td>mean(y)</td>\n",
       "    </tr>\n",
       "  </tbody>\n",
       "</table>\n",
       "</div>"
      ],
      "text/plain": [
       "  Statistik\n",
       "0         N\n",
       "1    sum(x)\n",
       "2  sum(x^2)\n",
       "3    sum(y)\n",
       "4  sum(y^2)\n",
       "5   sum(xy)\n",
       "6   mean(x)\n",
       "7   mean(y)"
      ]
     },
     "execution_count": 89,
     "metadata": {},
     "output_type": "execute_result"
    }
   ],
   "source": [
    "tabel = pd.DataFrame(sts)\n",
    "\n",
    "tabel.columns = ['Statistik']\n",
    "\n",
    "tabel\n"
   ]
  },
  {
   "cell_type": "code",
   "execution_count": 90,
   "metadata": {},
   "outputs": [
    {
     "data": {
      "text/html": [
       "<div>\n",
       "<style scoped>\n",
       "    .dataframe tbody tr th:only-of-type {\n",
       "        vertical-align: middle;\n",
       "    }\n",
       "\n",
       "    .dataframe tbody tr th {\n",
       "        vertical-align: top;\n",
       "    }\n",
       "\n",
       "    .dataframe thead th {\n",
       "        text-align: right;\n",
       "    }\n",
       "</style>\n",
       "<table border=\"1\" class=\"dataframe\">\n",
       "  <thead>\n",
       "    <tr style=\"text-align: right;\">\n",
       "      <th></th>\n",
       "      <th>Statistik</th>\n",
       "      <th>A1</th>\n",
       "    </tr>\n",
       "  </thead>\n",
       "  <tbody>\n",
       "    <tr>\n",
       "      <th>0</th>\n",
       "      <td>N</td>\n",
       "      <td>6.000000</td>\n",
       "    </tr>\n",
       "    <tr>\n",
       "      <th>1</th>\n",
       "      <td>sum(x)</td>\n",
       "      <td>1190.000000</td>\n",
       "    </tr>\n",
       "    <tr>\n",
       "      <th>2</th>\n",
       "      <td>sum(x^2)</td>\n",
       "      <td>238750.000000</td>\n",
       "    </tr>\n",
       "    <tr>\n",
       "      <th>3</th>\n",
       "      <td>sum(y)</td>\n",
       "      <td>990.000000</td>\n",
       "    </tr>\n",
       "    <tr>\n",
       "      <th>4</th>\n",
       "      <td>sum(y^2)</td>\n",
       "      <td>167600.000000</td>\n",
       "    </tr>\n",
       "    <tr>\n",
       "      <th>5</th>\n",
       "      <td>sum(xy)</td>\n",
       "      <td>199150.000000</td>\n",
       "    </tr>\n",
       "    <tr>\n",
       "      <th>6</th>\n",
       "      <td>mean(x)</td>\n",
       "      <td>198.333333</td>\n",
       "    </tr>\n",
       "    <tr>\n",
       "      <th>7</th>\n",
       "      <td>mean(y)</td>\n",
       "      <td>165.000000</td>\n",
       "    </tr>\n",
       "  </tbody>\n",
       "</table>\n",
       "</div>"
      ],
      "text/plain": [
       "  Statistik             A1\n",
       "0         N       6.000000\n",
       "1    sum(x)    1190.000000\n",
       "2  sum(x^2)  238750.000000\n",
       "3    sum(y)     990.000000\n",
       "4  sum(y^2)  167600.000000\n",
       "5   sum(xy)  199150.000000\n",
       "6   mean(x)     198.333333\n",
       "7   mean(y)     165.000000"
      ]
     },
     "execution_count": 90,
     "metadata": {},
     "output_type": "execute_result"
    }
   ],
   "source": [
    "tabel['A1'] = A1\n",
    "\n",
    "tabel\n"
   ]
  },
  {
   "cell_type": "code",
   "execution_count": 91,
   "metadata": {},
   "outputs": [
    {
     "data": {
      "text/html": [
       "<div>\n",
       "<style scoped>\n",
       "    .dataframe tbody tr th:only-of-type {\n",
       "        vertical-align: middle;\n",
       "    }\n",
       "\n",
       "    .dataframe tbody tr th {\n",
       "        vertical-align: top;\n",
       "    }\n",
       "\n",
       "    .dataframe thead th {\n",
       "        text-align: right;\n",
       "    }\n",
       "</style>\n",
       "<table border=\"1\" class=\"dataframe\">\n",
       "  <thead>\n",
       "    <tr style=\"text-align: right;\">\n",
       "      <th></th>\n",
       "      <th>Statistik</th>\n",
       "      <th>A1</th>\n",
       "      <th>A2</th>\n",
       "    </tr>\n",
       "  </thead>\n",
       "  <tbody>\n",
       "    <tr>\n",
       "      <th>0</th>\n",
       "      <td>N</td>\n",
       "      <td>6.000000</td>\n",
       "      <td>6.000000</td>\n",
       "    </tr>\n",
       "    <tr>\n",
       "      <th>1</th>\n",
       "      <td>sum(x)</td>\n",
       "      <td>1190.000000</td>\n",
       "      <td>1140.000000</td>\n",
       "    </tr>\n",
       "    <tr>\n",
       "      <th>2</th>\n",
       "      <td>sum(x^2)</td>\n",
       "      <td>238750.000000</td>\n",
       "      <td>219900.000000</td>\n",
       "    </tr>\n",
       "    <tr>\n",
       "      <th>3</th>\n",
       "      <td>sum(y)</td>\n",
       "      <td>990.000000</td>\n",
       "      <td>995.000000</td>\n",
       "    </tr>\n",
       "    <tr>\n",
       "      <th>4</th>\n",
       "      <td>sum(y^2)</td>\n",
       "      <td>167600.000000</td>\n",
       "      <td>166275.000000</td>\n",
       "    </tr>\n",
       "    <tr>\n",
       "      <th>5</th>\n",
       "      <td>sum(xy)</td>\n",
       "      <td>199150.000000</td>\n",
       "      <td>188900.000000</td>\n",
       "    </tr>\n",
       "    <tr>\n",
       "      <th>6</th>\n",
       "      <td>mean(x)</td>\n",
       "      <td>198.333333</td>\n",
       "      <td>190.000000</td>\n",
       "    </tr>\n",
       "    <tr>\n",
       "      <th>7</th>\n",
       "      <td>mean(y)</td>\n",
       "      <td>165.000000</td>\n",
       "      <td>165.833333</td>\n",
       "    </tr>\n",
       "  </tbody>\n",
       "</table>\n",
       "</div>"
      ],
      "text/plain": [
       "  Statistik             A1             A2\n",
       "0         N       6.000000       6.000000\n",
       "1    sum(x)    1190.000000    1140.000000\n",
       "2  sum(x^2)  238750.000000  219900.000000\n",
       "3    sum(y)     990.000000     995.000000\n",
       "4  sum(y^2)  167600.000000  166275.000000\n",
       "5   sum(xy)  199150.000000  188900.000000\n",
       "6   mean(x)     198.333333     190.000000\n",
       "7   mean(y)     165.000000     165.833333"
      ]
     },
     "execution_count": 91,
     "metadata": {},
     "output_type": "execute_result"
    }
   ],
   "source": [
    "A2 = [len(belajar3), sum(belajar3['x2']), sum(belajar3['x2'] ** 2), sum(belajar3['y2']), sum(belajar3['y2'] ** 2), sum(belajar3['x2'] * belajar3['y2']), belajar3['x2'].mean(), belajar3['y2'].mean()]\n",
    "\n",
    "tabel['A2'] = A2\n",
    "\n",
    "tabel"
   ]
  },
  {
   "cell_type": "code",
   "execution_count": 92,
   "metadata": {},
   "outputs": [
    {
     "data": {
      "text/plain": [
       "0        12.0000\n",
       "1      2330.0000\n",
       "2    458650.0000\n",
       "3      1985.0000\n",
       "4    333875.0000\n",
       "5    388050.0000\n",
       "6       388.3333\n",
       "7       330.8333\n",
       "dtype: float64"
      ]
     },
     "execution_count": 92,
     "metadata": {},
     "output_type": "execute_result"
    }
   ],
   "source": [
    "totalA1A2 = round(tabel['A1'] + tabel['A2'], 4)\n",
    "totalA1A2"
   ]
  },
  {
   "cell_type": "markdown",
   "metadata": {},
   "source": [
    "### Tabel Summary"
   ]
  },
  {
   "cell_type": "code",
   "execution_count": 93,
   "metadata": {},
   "outputs": [
    {
     "data": {
      "text/html": [
       "<div>\n",
       "<style scoped>\n",
       "    .dataframe tbody tr th:only-of-type {\n",
       "        vertical-align: middle;\n",
       "    }\n",
       "\n",
       "    .dataframe tbody tr th {\n",
       "        vertical-align: top;\n",
       "    }\n",
       "\n",
       "    .dataframe thead th {\n",
       "        text-align: right;\n",
       "    }\n",
       "</style>\n",
       "<table border=\"1\" class=\"dataframe\">\n",
       "  <thead>\n",
       "    <tr style=\"text-align: right;\">\n",
       "      <th></th>\n",
       "      <th>Statistik</th>\n",
       "      <th>A1</th>\n",
       "      <th>A2</th>\n",
       "      <th>Total</th>\n",
       "    </tr>\n",
       "  </thead>\n",
       "  <tbody>\n",
       "    <tr>\n",
       "      <th>0</th>\n",
       "      <td>N</td>\n",
       "      <td>6.000000</td>\n",
       "      <td>6.000000</td>\n",
       "      <td>12.0000</td>\n",
       "    </tr>\n",
       "    <tr>\n",
       "      <th>1</th>\n",
       "      <td>sum(x)</td>\n",
       "      <td>1190.000000</td>\n",
       "      <td>1140.000000</td>\n",
       "      <td>2330.0000</td>\n",
       "    </tr>\n",
       "    <tr>\n",
       "      <th>2</th>\n",
       "      <td>sum(x^2)</td>\n",
       "      <td>238750.000000</td>\n",
       "      <td>219900.000000</td>\n",
       "      <td>458650.0000</td>\n",
       "    </tr>\n",
       "    <tr>\n",
       "      <th>3</th>\n",
       "      <td>sum(y)</td>\n",
       "      <td>990.000000</td>\n",
       "      <td>995.000000</td>\n",
       "      <td>1985.0000</td>\n",
       "    </tr>\n",
       "    <tr>\n",
       "      <th>4</th>\n",
       "      <td>sum(y^2)</td>\n",
       "      <td>167600.000000</td>\n",
       "      <td>166275.000000</td>\n",
       "      <td>333875.0000</td>\n",
       "    </tr>\n",
       "    <tr>\n",
       "      <th>5</th>\n",
       "      <td>sum(xy)</td>\n",
       "      <td>199150.000000</td>\n",
       "      <td>188900.000000</td>\n",
       "      <td>388050.0000</td>\n",
       "    </tr>\n",
       "    <tr>\n",
       "      <th>6</th>\n",
       "      <td>mean(x)</td>\n",
       "      <td>198.333333</td>\n",
       "      <td>190.000000</td>\n",
       "      <td>388.3333</td>\n",
       "    </tr>\n",
       "    <tr>\n",
       "      <th>7</th>\n",
       "      <td>mean(y)</td>\n",
       "      <td>165.000000</td>\n",
       "      <td>165.833333</td>\n",
       "      <td>330.8333</td>\n",
       "    </tr>\n",
       "  </tbody>\n",
       "</table>\n",
       "</div>"
      ],
      "text/plain": [
       "  Statistik             A1             A2        Total\n",
       "0         N       6.000000       6.000000      12.0000\n",
       "1    sum(x)    1190.000000    1140.000000    2330.0000\n",
       "2  sum(x^2)  238750.000000  219900.000000  458650.0000\n",
       "3    sum(y)     990.000000     995.000000    1985.0000\n",
       "4  sum(y^2)  167600.000000  166275.000000  333875.0000\n",
       "5   sum(xy)  199150.000000  188900.000000  388050.0000\n",
       "6   mean(x)     198.333333     190.000000     388.3333\n",
       "7   mean(y)     165.000000     165.833333     330.8333"
      ]
     },
     "execution_count": 93,
     "metadata": {},
     "output_type": "execute_result"
    }
   ],
   "source": [
    "tabel['Total'] = totalA1A2\n",
    "\n",
    "tabel"
   ]
  },
  {
   "cell_type": "markdown",
   "metadata": {},
   "source": [
    "### Sumber Variasi Total (Residu)"
   ]
  },
  {
   "cell_type": "code",
   "execution_count": 94,
   "metadata": {},
   "outputs": [
    {
     "name": "stdout",
     "output_type": "stream",
     "text": [
      "JKyt = 5522.917\n",
      "JKxt = 6241.667\n",
      "JPxyt = 2629.167\n",
      "Betat = 0.4212283353149086\n",
      "JKregt = 1107.48\n",
      "JKrest = 4415.437\n"
     ]
    }
   ],
   "source": [
    "JKyt = (tabel['Total'].iloc[4] - ((tabel['Total'].iloc[3]) ** 2 / tabel['Total'].iloc[0])).round(3)\n",
    "\n",
    "JKxt = (tabel['Total'].iloc[2] - ((tabel['Total'].iloc[1]) ** 2 / tabel['Total'].iloc[0])).round(3)\n",
    "\n",
    "JPxyt = (tabel['Total'].iloc[5] - ((tabel['Total'].iloc[1] * tabel['Total'].iloc[3]) / tabel['Total'].iloc[0])).round(3)\n",
    "\n",
    "Betat = JPxyt / JKxt\n",
    "\n",
    "JKregt = round(Betat * JPxyt, 3)\n",
    "\n",
    "JKrest = round(JKyt - JKregt, 3)\n",
    "\n",
    "print('JKyt =', JKyt)\n",
    "print('JKxt =', JKxt)\n",
    "print('JPxyt =', JPxyt)\n",
    "print('Betat =', Betat)\n",
    "print('JKregt =', JKregt)\n",
    "print('JKrest =', JKrest)"
   ]
  },
  {
   "cell_type": "markdown",
   "metadata": {},
   "source": [
    "### Sumber Variasi Dalam (JK dalam residu)"
   ]
  },
  {
   "cell_type": "code",
   "execution_count": 95,
   "metadata": {},
   "outputs": [
    {
     "name": "stdout",
     "output_type": "stream",
     "text": [
      "JKyd = 5520.833\n",
      "JKxd = 6033.333\n",
      "JPxyd = 2650.0\n",
      "Betad = 0.43922654360367647\n",
      "Jkregd = 1163.95\n",
      "JKresd = 4356.883\n"
     ]
    }
   ],
   "source": [
    "JKyd = (tabel['Total'].iloc[4] - (tabel['A1'].iloc[3] ** 2 / tabel['A1'].iloc[0] + tabel['A2'].iloc[3] ** 2 / tabel['A2'].iloc[0])).round(3)\n",
    "\n",
    "JKxd = (tabel['Total'].iloc[2] - (tabel['A1'].iloc[1] ** 2 / tabel['A1'].iloc[0] + tabel['A2'].iloc[1] ** 2 / tabel['A2'].iloc[0])).round(3)\n",
    "\n",
    "JPxyd = (tabel['Total'].iloc[5] - (tabel['A1'].iloc[1] * tabel['A1'].iloc[3] / tabel['A1'].iloc[0] + tabel['A2'].iloc[1] * tabel['A2'].iloc[3] / tabel['A2'].iloc[0])).round(3)\n",
    "\n",
    "Betad = JPxyd / JKxd\n",
    "\n",
    "JKregd = round(Betad * JPxyd, 3)\n",
    "\n",
    "JKresd = round(JKyd - JKregd, 3)\n",
    "\n",
    "print('JKyd =', JKyd)\n",
    "print('JKxd =', JKxd)\n",
    "print('JPxyd =', JPxyd)\n",
    "print('Betad =', Betad)\n",
    "print('Jkregd =', JKregd)\n",
    "print('JKresd =', JKresd)"
   ]
  },
  {
   "cell_type": "markdown",
   "metadata": {},
   "source": [
    "### Sumber Variasi Antar"
   ]
  },
  {
   "cell_type": "code",
   "execution_count": 96,
   "metadata": {},
   "outputs": [
    {
     "data": {
      "text/plain": [
       "58.55400000000009"
      ]
     },
     "execution_count": 96,
     "metadata": {},
     "output_type": "execute_result"
    }
   ],
   "source": [
    "JKA = JKrest - JKresd\n",
    "\n",
    "JKA"
   ]
  },
  {
   "cell_type": "markdown",
   "metadata": {},
   "source": [
    "### Menghitung Derajat kebebasan "
   ]
  },
  {
   "cell_type": "code",
   "execution_count": 97,
   "metadata": {},
   "outputs": [
    {
     "name": "stdout",
     "output_type": "stream",
     "text": [
      "DKA = 1\n",
      "DKD = 9.0\n",
      "DKT = 10.0\n"
     ]
    }
   ],
   "source": [
    "DKA = a - 1\n",
    "\n",
    "DKD = tabel['Total'].iloc[0] - a - M\n",
    "\n",
    "DKT = tabel['Total'].iloc[0] - 1 - M\n",
    "\n",
    "print('DKA =', DKA)\n",
    "print('DKD =', DKD)\n",
    "print('DKT =', DKT)"
   ]
  },
  {
   "cell_type": "markdown",
   "metadata": {},
   "source": [
    "### Menghitung Rata-rata Kuadrat (RK)"
   ]
  },
  {
   "cell_type": "code",
   "execution_count": 98,
   "metadata": {},
   "outputs": [
    {
     "name": "stdout",
     "output_type": "stream",
     "text": [
      "RKA = 58.55400000000009\n",
      "RKD = 484.0981111111111\n"
     ]
    }
   ],
   "source": [
    "RKA = JKA / DKA \n",
    "\n",
    "RKD = JKresd / DKD\n",
    "\n",
    "print('RKA =', RKA)\n",
    "print('RKD =', RKD)"
   ]
  },
  {
   "cell_type": "markdown",
   "metadata": {},
   "source": [
    "### Menghitung Nilai F hitung"
   ]
  },
  {
   "cell_type": "code",
   "execution_count": 99,
   "metadata": {},
   "outputs": [
    {
     "data": {
      "text/plain": [
       "0.121"
      ]
     },
     "execution_count": 99,
     "metadata": {},
     "output_type": "execute_result"
    }
   ],
   "source": [
    "F = round(RKA / RKD, 3)\n",
    "\n",
    "F"
   ]
  },
  {
   "cell_type": "markdown",
   "metadata": {},
   "source": [
    "### Menentukan F Tabel"
   ]
  },
  {
   "cell_type": "code",
   "execution_count": 100,
   "metadata": {},
   "outputs": [
    {
     "data": {
      "text/plain": [
       "5.12"
      ]
     },
     "execution_count": 100,
     "metadata": {},
     "output_type": "execute_result"
    }
   ],
   "source": [
    "import scipy.stats as stats\n",
    "\n",
    "Ftabel = stats.f.ppf(1 - alpha, DKA, DKD).round(2)\n",
    "\n",
    "Ftabel\n"
   ]
  },
  {
   "cell_type": "markdown",
   "metadata": {},
   "source": [
    "### Rangkuman Ancova 1 Faktor"
   ]
  },
  {
   "cell_type": "code",
   "execution_count": 101,
   "metadata": {},
   "outputs": [
    {
     "data": {
      "text/html": [
       "<div>\n",
       "<style scoped>\n",
       "    .dataframe tbody tr th:only-of-type {\n",
       "        vertical-align: middle;\n",
       "    }\n",
       "\n",
       "    .dataframe tbody tr th {\n",
       "        vertical-align: top;\n",
       "    }\n",
       "\n",
       "    .dataframe thead th {\n",
       "        text-align: right;\n",
       "    }\n",
       "</style>\n",
       "<table border=\"1\" class=\"dataframe\">\n",
       "  <thead>\n",
       "    <tr style=\"text-align: right;\">\n",
       "      <th></th>\n",
       "      <th>Statistik</th>\n",
       "      <th>JK</th>\n",
       "      <th>DK</th>\n",
       "      <th>RK</th>\n",
       "      <th>F</th>\n",
       "      <th>F Tabel</th>\n",
       "    </tr>\n",
       "  </thead>\n",
       "  <tbody>\n",
       "    <tr>\n",
       "      <th>0</th>\n",
       "      <td>Antar</td>\n",
       "      <td>58.554</td>\n",
       "      <td>1.0</td>\n",
       "      <td>58.554</td>\n",
       "      <td>0.121</td>\n",
       "      <td>5.12</td>\n",
       "    </tr>\n",
       "    <tr>\n",
       "      <th>1</th>\n",
       "      <td>Dalam (error)</td>\n",
       "      <td>4356.883</td>\n",
       "      <td>9.0</td>\n",
       "      <td>484.098</td>\n",
       "      <td>[nan]</td>\n",
       "      <td>[nan]</td>\n",
       "    </tr>\n",
       "    <tr>\n",
       "      <th>2</th>\n",
       "      <td>Total (residu)</td>\n",
       "      <td>4415.437</td>\n",
       "      <td>10.0</td>\n",
       "      <td>[nan]</td>\n",
       "      <td>[nan]</td>\n",
       "      <td>[nan]</td>\n",
       "    </tr>\n",
       "  </tbody>\n",
       "</table>\n",
       "</div>"
      ],
      "text/plain": [
       "        Statistik        JK    DK       RK      F F Tabel\n",
       "0           Antar    58.554   1.0   58.554  0.121    5.12\n",
       "1   Dalam (error)  4356.883   9.0  484.098  [nan]   [nan]\n",
       "2  Total (residu)  4415.437  10.0    [nan]  [nan]   [nan]"
      ]
     },
     "execution_count": 101,
     "metadata": {},
     "output_type": "execute_result"
    }
   ],
   "source": [
    "tabel_ancova = {\n",
    "    'Statistik' : ['Antar', 'Dalam (error)', 'Total (residu)']\n",
    "}\n",
    "\n",
    "tabelAncova = pd.DataFrame(tabel_ancova)\n",
    "\n",
    "tabelAncova['JK'] = [RKA, JKresd, JKrest]\n",
    "\n",
    "tabelAncova['DK'] = [DKA, DKD, DKT]\n",
    "\n",
    "tabelAncova['RK'] = [RKA, RKD.round(3), [np.nan]]\n",
    "\n",
    "tabelAncova['F'] = [F, [np.nan], [np.nan]]\n",
    "\n",
    "tabelAncova['F Tabel'] = [Ftabel, [np.nan], [np.nan]]\n",
    "\n",
    "tabelAncova\n"
   ]
  },
  {
   "cell_type": "code",
   "execution_count": 102,
   "metadata": {},
   "outputs": [
    {
     "name": "stdout",
     "output_type": "stream",
     "text": [
      "H0 diterima yang artinya tidak terdapat perbedaan\n"
     ]
    }
   ],
   "source": [
    "if (F < Ftabel):\n",
    "    print('H0 diterima yang artinya tidak terdapat perbedaan')\n",
    "else:\n",
    "    print('H0 ditolak yang artinya terdapat perbedaan')\n",
    "\n"
   ]
  }
 ],
 "metadata": {
  "kernelspec": {
   "display_name": "Python 3",
   "language": "python",
   "name": "python3"
  },
  "language_info": {
   "codemirror_mode": {
    "name": "ipython",
    "version": 3
   },
   "file_extension": ".py",
   "mimetype": "text/x-python",
   "name": "python",
   "nbconvert_exporter": "python",
   "pygments_lexer": "ipython3",
   "version": "3.11.9"
  }
 },
 "nbformat": 4,
 "nbformat_minor": 2
}
